{
 "cells": [
  {
   "cell_type": "code",
   "execution_count": 1,
   "metadata": {},
   "outputs": [],
   "source": [
    "import pandas as pd\n",
    "X_train = pd.read_csv('X_train_norm_pca.csv')\n",
    "X_test = pd.read_csv('X_test_norm_pca.csv')\n",
    "y_train = pd.read_csv('y_train.csv')\n",
    "y_test = pd.read_csv('y_test.csv')"
   ]
  },
  {
   "cell_type": "code",
   "execution_count": null,
   "metadata": {},
   "outputs": [],
   "source": [
    "import pandas as pd\n",
    "import numpy as np\n",
    "from sklearn.ensemble import StackingClassifier, RandomForestClassifier, ExtraTreesClassifier\n",
    "from sklearn.svm import SVC\n",
    "from catboost import CatBoostClassifier\n",
    "from sklearn.metrics import accuracy_score\n",
    "from sklearn.model_selection import StratifiedKFold\n",
    "from sklearn.base import clone\n",
    "\n",
    "X_train = pd.read_csv('X_train_norm_pca.csv')\n",
    "X_test = pd.read_csv('X_test_norm_pca.csv')\n",
    "y_train = pd.read_csv('y_train.csv').values.ravel()\n",
    "y_test = pd.read_csv('y_test.csv').values.ravel()\n",
    "base_models = [\n",
    "    ('RandomForest', RandomForestClassifier(n_estimators=243, max_depth=27, min_samples_split=12,\n",
    "                                            min_samples_leaf=1, max_features='log2', random_state=8)),\n",
    "\n",
    "    ('CatBoost', CatBoostClassifier(iterations=480, depth=14, learning_rate=0.011574,\n",
    "                                    l2_leaf_reg=3.8, border_count=86, verbose=0, random_seed=8)),\n",
    "\n",
    "    ('ExtraTrees', ExtraTreesClassifier(n_estimators=153, max_depth=26, min_samples_split=4,\n",
    "                                        min_samples_leaf=4, max_features=None, random_state=8)),\n",
    "\n",
    "    ('SVM', SVC(kernel='rbf', C=0.12, gamma=0.0024, probability=True, random_state=8)),\n",
    "\n",
    "    ('OvR_SVC', SVC(kernel='rbf', C=0.3051, gamma=0.0020, probability=True, \n",
    "                    random_state=8, decision_function_shape='ovr'))\n",
    "]\n",
    "\n",
    "meta_learner = RandomForestClassifier(n_estimators=100, max_depth=10, random_state=8)\n",
    "\n",
    "stacking_model = StackingClassifier(estimators=base_models, final_estimator=meta_learner, passthrough=True, cv=5)\n",
    "stacking_model.fit(X_train, y_train)\n",
    "y_pred = stacking_model.predict(X_test)\n",
    "\n",
    "accuracy = accuracy_score(y_test, y_pred)\n",
    "print(f\"Stacked Model Accuracy (RF Meta Learner): {accuracy:.4f}\")\n"
   ]
  }
 ],
 "metadata": {
  "kernelspec": {
   "display_name": "Python 3",
   "language": "python",
   "name": "python3"
  },
  "language_info": {
   "codemirror_mode": {
    "name": "ipython",
    "version": 3
   },
   "file_extension": ".py",
   "mimetype": "text/x-python",
   "name": "python",
   "nbconvert_exporter": "python",
   "pygments_lexer": "ipython3",
   "version": "3.12.1"
  }
 },
 "nbformat": 4,
 "nbformat_minor": 2
}
